{
 "cells": [
  {
   "cell_type": "code",
   "execution_count": 1,
   "metadata": {},
   "outputs": [],
   "source": [
    "# Importa librerias\n",
    "import pandas as pd\n",
    "import matplotlib.pyplot as plt"
   ]
  },
  {
   "cell_type": "code",
   "execution_count": 2,
   "metadata": {},
   "outputs": [],
   "source": [
    "# Define el insumo a utilizar\n",
    "df = pd.read_csv('Insumo 2.csv')"
   ]
  },
  {
   "cell_type": "code",
   "execution_count": 4,
   "metadata": {},
   "outputs": [
    {
     "data": {
      "text/html": [
       "<div>\n",
       "<style scoped>\n",
       "    .dataframe tbody tr th:only-of-type {\n",
       "        vertical-align: middle;\n",
       "    }\n",
       "\n",
       "    .dataframe tbody tr th {\n",
       "        vertical-align: top;\n",
       "    }\n",
       "\n",
       "    .dataframe thead th {\n",
       "        text-align: right;\n",
       "    }\n",
       "</style>\n",
       "<table border=\"1\" class=\"dataframe\">\n",
       "  <thead>\n",
       "    <tr style=\"text-align: right;\">\n",
       "      <th></th>\n",
       "      <th>ID</th>\n",
       "      <th>Vendedor</th>\n",
       "      <th>Producto</th>\n",
       "      <th>Precio</th>\n",
       "      <th>Mes</th>\n",
       "      <th>Costo</th>\n",
       "      <th>Competencia</th>\n",
       "    </tr>\n",
       "  </thead>\n",
       "  <tbody>\n",
       "    <tr>\n",
       "      <th>195</th>\n",
       "      <td>196</td>\n",
       "      <td>Mikal Campo</td>\n",
       "      <td>PC</td>\n",
       "      <td>600</td>\n",
       "      <td>Enero</td>\n",
       "      <td>510.00</td>\n",
       "      <td>609.000</td>\n",
       "    </tr>\n",
       "    <tr>\n",
       "      <th>196</th>\n",
       "      <td>197</td>\n",
       "      <td>Maca Prabo</td>\n",
       "      <td>Móvil</td>\n",
       "      <td>250</td>\n",
       "      <td>Enero</td>\n",
       "      <td>212.50</td>\n",
       "      <td>253.750</td>\n",
       "    </tr>\n",
       "    <tr>\n",
       "      <th>197</th>\n",
       "      <td>198</td>\n",
       "      <td>Mikal Campo</td>\n",
       "      <td>PC</td>\n",
       "      <td>600</td>\n",
       "      <td>Marzo</td>\n",
       "      <td>510.00</td>\n",
       "      <td>609.000</td>\n",
       "    </tr>\n",
       "    <tr>\n",
       "      <th>198</th>\n",
       "      <td>199</td>\n",
       "      <td>Mikal Campo</td>\n",
       "      <td>Auriculares</td>\n",
       "      <td>25</td>\n",
       "      <td>Enero</td>\n",
       "      <td>21.25</td>\n",
       "      <td>25.375</td>\n",
       "    </tr>\n",
       "    <tr>\n",
       "      <th>199</th>\n",
       "      <td>200</td>\n",
       "      <td>Carl Refur</td>\n",
       "      <td>Auriculares</td>\n",
       "      <td>25</td>\n",
       "      <td>Enero</td>\n",
       "      <td>21.25</td>\n",
       "      <td>25.375</td>\n",
       "    </tr>\n",
       "  </tbody>\n",
       "</table>\n",
       "</div>"
      ],
      "text/plain": [
       "      ID     Vendedor     Producto  Precio    Mes   Costo  Competencia\n",
       "195  196  Mikal Campo           PC     600  Enero  510.00      609.000\n",
       "196  197   Maca Prabo        Móvil     250  Enero  212.50      253.750\n",
       "197  198  Mikal Campo           PC     600  Marzo  510.00      609.000\n",
       "198  199  Mikal Campo  Auriculares      25  Enero   21.25       25.375\n",
       "199  200   Carl Refur  Auriculares      25  Enero   21.25       25.375"
      ]
     },
     "execution_count": 4,
     "metadata": {},
     "output_type": "execute_result"
    }
   ],
   "source": [
    "# Muestra los primeros 5 registros\n",
    "df.head()"
   ]
  },
  {
   "cell_type": "code",
   "execution_count": 5,
   "metadata": {},
   "outputs": [
    {
     "data": {
      "text/html": [
       "<div>\n",
       "<style scoped>\n",
       "    .dataframe tbody tr th:only-of-type {\n",
       "        vertical-align: middle;\n",
       "    }\n",
       "\n",
       "    .dataframe tbody tr th {\n",
       "        vertical-align: top;\n",
       "    }\n",
       "\n",
       "    .dataframe thead th {\n",
       "        text-align: right;\n",
       "    }\n",
       "</style>\n",
       "<table border=\"1\" class=\"dataframe\">\n",
       "  <thead>\n",
       "    <tr style=\"text-align: right;\">\n",
       "      <th></th>\n",
       "      <th>ID</th>\n",
       "      <th>Vendedor</th>\n",
       "      <th>Producto</th>\n",
       "      <th>Precio</th>\n",
       "      <th>Mes</th>\n",
       "      <th>Costo</th>\n",
       "      <th>Competencia</th>\n",
       "    </tr>\n",
       "  </thead>\n",
       "  <tbody>\n",
       "    <tr>\n",
       "      <th>195</th>\n",
       "      <td>196</td>\n",
       "      <td>Mikal Campo</td>\n",
       "      <td>PC</td>\n",
       "      <td>600</td>\n",
       "      <td>Enero</td>\n",
       "      <td>510.00</td>\n",
       "      <td>609.000</td>\n",
       "    </tr>\n",
       "    <tr>\n",
       "      <th>196</th>\n",
       "      <td>197</td>\n",
       "      <td>Maca Prabo</td>\n",
       "      <td>Móvil</td>\n",
       "      <td>250</td>\n",
       "      <td>Enero</td>\n",
       "      <td>212.50</td>\n",
       "      <td>253.750</td>\n",
       "    </tr>\n",
       "    <tr>\n",
       "      <th>197</th>\n",
       "      <td>198</td>\n",
       "      <td>Mikal Campo</td>\n",
       "      <td>PC</td>\n",
       "      <td>600</td>\n",
       "      <td>Marzo</td>\n",
       "      <td>510.00</td>\n",
       "      <td>609.000</td>\n",
       "    </tr>\n",
       "    <tr>\n",
       "      <th>198</th>\n",
       "      <td>199</td>\n",
       "      <td>Mikal Campo</td>\n",
       "      <td>Auriculares</td>\n",
       "      <td>25</td>\n",
       "      <td>Enero</td>\n",
       "      <td>21.25</td>\n",
       "      <td>25.375</td>\n",
       "    </tr>\n",
       "    <tr>\n",
       "      <th>199</th>\n",
       "      <td>200</td>\n",
       "      <td>Carl Refur</td>\n",
       "      <td>Auriculares</td>\n",
       "      <td>25</td>\n",
       "      <td>Enero</td>\n",
       "      <td>21.25</td>\n",
       "      <td>25.375</td>\n",
       "    </tr>\n",
       "  </tbody>\n",
       "</table>\n",
       "</div>"
      ],
      "text/plain": [
       "      ID     Vendedor     Producto  Precio    Mes   Costo  Competencia\n",
       "195  196  Mikal Campo           PC     600  Enero  510.00      609.000\n",
       "196  197   Maca Prabo        Móvil     250  Enero  212.50      253.750\n",
       "197  198  Mikal Campo           PC     600  Marzo  510.00      609.000\n",
       "198  199  Mikal Campo  Auriculares      25  Enero   21.25       25.375\n",
       "199  200   Carl Refur  Auriculares      25  Enero   21.25       25.375"
      ]
     },
     "execution_count": 5,
     "metadata": {},
     "output_type": "execute_result"
    }
   ],
   "source": [
    "# Muestra los últimos 5 registros\n",
    "df.tail()"
   ]
  },
  {
   "cell_type": "code",
   "execution_count": 6,
   "metadata": {},
   "outputs": [
    {
     "data": {
      "text/plain": [
       "200"
      ]
     },
     "execution_count": 6,
     "metadata": {},
     "output_type": "execute_result"
    }
   ],
   "source": [
    "# Conteo de registros\n",
    "len(df)"
   ]
  },
  {
   "cell_type": "code",
   "execution_count": 9,
   "metadata": {},
   "outputs": [
    {
     "data": {
      "text/plain": [
       "ID               int64\n",
       "Vendedor        object\n",
       "Producto        object\n",
       "Precio           int64\n",
       "Mes             object\n",
       "Costo          float64\n",
       "Competencia    float64\n",
       "dtype: object"
      ]
     },
     "execution_count": 9,
     "metadata": {},
     "output_type": "execute_result"
    }
   ],
   "source": [
    "# Visualiza tipos de datos\n",
    "df.dtypes"
   ]
  },
  {
   "cell_type": "code",
   "execution_count": 19,
   "metadata": {},
   "outputs": [],
   "source": [
    "# Función para crear el set de datos a graficar, promedios\n",
    "group_by_seller = df.loc[:,['Vendedor','Mes','Precio','Costo']].groupby('Vendedor')\n",
    "avgs = group_by_seller.mean()\n",
    "x = avgs.index\n",
    "y1 = avgs.Precio\n",
    "def plot(x,y,ax,title,y_label):\n",
    "    ax.set_title(title)\n",
    "    ax.set_ylabel(y_label)\n",
    "    ax.plot(x,y)\n",
    "    ax.margins(x=0,y=0)"
   ]
  },
  {
   "cell_type": "code",
   "execution_count": 17,
   "metadata": {},
   "outputs": [
    {
     "data": {
      "image/png": "[encoded data removed]",
      "text/plain": [
       "<Figure size 432x288 with 1 Axes>"
      ]
     },
     "metadata": {
      "needs_background": "light"
     },
     "output_type": "display_data"
    }
   ],
   "source": [
    "# Elabora la gráfica con promedio de ventas\n",
    "fig, ax = plt.subplots()\n",
    "plot(x,y1,ax,'Gráfica de Ventas','Ventas')"
   ]
  },
  {
   "cell_type": "code",
   "execution_count": 20,
   "metadata": {},
   "outputs": [
    {
     "data": {
      "image/png": "[encoded data removed]",
      "text/plain": [
       "<Figure size 432x288 with 1 Axes>"
      ]
     },
     "metadata": {
      "needs_background": "light"
     },
     "output_type": "display_data"
    }
   ],
   "source": [
    "# Elabora la gráfica con promedio de costos\n",
    "y2 = avgs.Costo\n",
    "fig, ax = plt.subplots()\n",
    "plot (x,y2,ax,'Gráfica de Costos','Costos')"
   ]
  }
 ],
 "metadata": {
  "kernelspec": {
   "display_name": "Python 3",
   "language": "python",
   "name": "python3"
  },
  "language_info": {
   "codemirror_mode": {
    "name": "ipython",
    "version": 3
   },
   "file_extension": ".py",
   "mimetype": "text/x-python",
   "name": "python",
   "nbconvert_exporter": "python",
   "pygments_lexer": "ipython3",
   "version": "3.7.4"
  }
 },
 "nbformat": 4,
 "nbformat_minor": 4
}
