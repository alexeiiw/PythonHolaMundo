{
 "cells": [
  {
   "cell_type": "markdown",
   "metadata": {},
   "source": [
    "Agregamos las clases"
   ]
  },
  {
   "cell_type": "code",
   "execution_count": 1,
   "metadata": {},
   "outputs": [],
   "source": [
    "class KnowledgeBase:\n",
    "    def __init__(self):\n",
    "        self.rules = []\n",
    "        self.facts = []\n",
    "\n",
    "    def add_fact(self, fact):\n",
    "        self.facts.append(fact)\n",
    "\n",
    "    def add_rule(self, rule):\n",
    "        self.rules.append(rule)\n",
    "\n",
    "    def query(self, proposition):\n",
    "        if proposition in self.facts:\n",
    "            return True\n",
    "        for rule in self.rules:\n",
    "            if rule.consequent == proposition:\n",
    "                if all(self.query(antecedent) for antecedent in rule.antecedents):\n",
    "                    return True\n",
    "        return False\n",
    "    \n",
    "class Rule:\n",
    "    def __init__(self, antecedents, consequent):\n",
    "        self.antecedents = antecedents\n",
    "        self.consequent = consequent"
   ]
  },
  {
   "cell_type": "markdown",
   "metadata": {},
   "source": [
    "Prueba \n",
    "añadimos los hechos A y B\n",
    "añadimos las reglas: Si A y B son verdaderos entonces C es verdaderos y \n",
    "si C es verdadero entonces es D es verdadero\n",
    "Consultar C y D y E "
   ]
  },
  {
   "cell_type": "markdown",
   "metadata": {},
   "source": [
    "Crear la base de conocimiento"
   ]
  },
  {
   "cell_type": "code",
   "execution_count": 2,
   "metadata": {},
   "outputs": [],
   "source": [
    "kb = KnowledgeBase()"
   ]
  },
  {
   "cell_type": "markdown",
   "metadata": {},
   "source": [
    "Añadir hechos"
   ]
  },
  {
   "cell_type": "code",
   "execution_count": 5,
   "metadata": {},
   "outputs": [],
   "source": [
    "kb.add_fact('A')\n",
    "kb.add_fact('B')"
   ]
  },
  {
   "cell_type": "markdown",
   "metadata": {},
   "source": [
    "Añadir reglas"
   ]
  },
  {
   "cell_type": "code",
   "execution_count": 6,
   "metadata": {},
   "outputs": [],
   "source": [
    "kb.add_rule(Rule(['A', 'B'], 'C'))\n",
    "kb.add_rule(Rule(['C'], 'D'))"
   ]
  },
  {
   "cell_type": "markdown",
   "metadata": {},
   "source": [
    "Consultar proposiciones\n",
    "C debe de ser verdadero\n",
    "D debe de ser verdadero\n",
    "E debe de ser Falso"
   ]
  },
  {
   "cell_type": "code",
   "execution_count": 7,
   "metadata": {},
   "outputs": [
    {
     "name": "stdout",
     "output_type": "stream",
     "text": [
      "True\n",
      "True\n",
      "False\n"
     ]
    }
   ],
   "source": [
    "print(kb.query('D')) # True\n",
    "print(kb.query('C')) # True\n",
    "print(kb.query('E')) # False"
   ]
  }
 ],
 "metadata": {
  "kernelspec": {
   "display_name": "Python 3",
   "language": "python",
   "name": "python3"
  },
  "language_info": {
   "codemirror_mode": {
    "name": "ipython",
    "version": 3
   },
   "file_extension": ".py",
   "mimetype": "text/x-python",
   "name": "python",
   "nbconvert_exporter": "python",
   "pygments_lexer": "ipython3",
   "version": "3.10.8"
  }
 },
 "nbformat": 4,
 "nbformat_minor": 2
}
