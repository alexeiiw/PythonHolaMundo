{
 "cells": [
  {
   "cell_type": "markdown",
   "metadata": {},
   "source": [
    "Supongamos que queremos encontrar el maximo de la funcion f(x)=x2f(x)=x^2 en el intervalo [0,31].  Vamos a representar los individuos como cadenas binarias de longitud 5"
   ]
  },
  {
   "cell_type": "markdown",
   "metadata": {},
   "source": [
    "Paso 1 (Inicializacion)\n",
    "Primero, creamos una poblacion inicial de individuos al azar"
   ]
  },
  {
   "cell_type": "code",
   "execution_count": 2,
   "metadata": {},
   "outputs": [
    {
     "name": "stdout",
     "output_type": "stream",
     "text": [
      "[[0, 1, 1, 1, 0], [1, 0, 1, 0, 1], [0, 0, 1, 1, 1], [0, 1, 1, 0, 0], [1, 0, 0, 1, 1], [0, 0, 1, 0, 0], [0, 1, 1, 1, 0], [1, 1, 0, 0, 0], [0, 1, 1, 1, 0], [0, 0, 1, 1, 1]]\n"
     ]
    }
   ],
   "source": [
    "import random\n",
    "def generate_individual(length):\n",
    "    return [random.randint(0, 1) for i in range(length)]\n",
    "\n",
    "def generate_population(population_size, individual_length):\n",
    "    return [generate_individual(individual_length) for i in range(population_size)]\n",
    "\n",
    "population = generate_population(10, 5) # 10 individuals, each with 5 genes\n",
    "\n",
    "print(population)"
   ]
  },
  {
   "cell_type": "markdown",
   "metadata": {},
   "source": [
    "Paso 2 (Evaluacion de la Aptitud [Fitness])\n",
    "Calculamos la aptitud de cada individuo, en este caso la aptitud es el valor de la funcion f(x)=x2f(x)=x^2\n"
   ]
  },
  {
   "cell_type": "code",
   "execution_count": 3,
   "metadata": {},
   "outputs": [
    {
     "name": "stdout",
     "output_type": "stream",
     "text": [
      "[14, 21, 7, 12, 19, 4, 14, 24, 14, 7]\n"
     ]
    }
   ],
   "source": [
    "def bynary_to_decimal(binary):\n",
    "    decimal = 0\n",
    "    for i in range(len(binary)):\n",
    "        decimal += binary[i] * 2 ** (len(binary) - i - 1)\n",
    "    return decimal\n",
    "\n",
    "def fitness(individual):\n",
    "    return bynary_to_decimal(individual)\n",
    "\n",
    "fitness_values = [fitness(individual) for individual in population]\n",
    "\n",
    "print(fitness_values)"
   ]
  },
  {
   "cell_type": "markdown",
   "metadata": {},
   "source": [
    "Paso 3 (Seleccion)\n",
    "Seleccionamos individuos para la reproduccion segun su aptitud"
   ]
  },
  {
   "cell_type": "code",
   "execution_count": 4,
   "metadata": {},
   "outputs": [
    {
     "name": "stdout",
     "output_type": "stream",
     "text": [
      "[[1, 0, 1, 0, 1], [0, 1, 1, 0, 0], [0, 0, 1, 1, 1], [1, 0, 1, 0, 1], [1, 1, 0, 0, 0], [0, 1, 1, 1, 0], [0, 1, 1, 1, 0], [0, 0, 1, 1, 1], [0, 1, 1, 1, 0], [1, 0, 1, 0, 1]]\n"
     ]
    }
   ],
   "source": [
    "def selection(population, fitness_values):\n",
    "    total_fitness = sum(fitness_values)\n",
    "    probabilities = [fitness_value / total_fitness for fitness_value in fitness_values]\n",
    "    selected_indices = random.choices(range(len(population)), probabilities, k=len(population))\n",
    "    return [population[i] for i in selected_indices]\n",
    "\n",
    "selected_population = selection(population, fitness_values)\n",
    "\n",
    "print(selected_population)"
   ]
  },
  {
   "cell_type": "markdown",
   "metadata": {},
   "source": [
    "Paso 4 (Cruce - Crossover)\n",
    "Intercambiamos partes de los individuos seleccionados para crear nuevos individuos"
   ]
  },
  {
   "cell_type": "code",
   "execution_count": 5,
   "metadata": {},
   "outputs": [
    {
     "name": "stdout",
     "output_type": "stream",
     "text": [
      "[[1, 0, 1, 0, 1], [0, 1, 1, 0, 0], [0, 0, 1, 1, 1], [1, 0, 1, 0, 1], [0, 1, 1, 1, 0], [1, 1, 0, 0, 0], [0, 1, 1, 1, 0], [0, 0, 1, 1, 1], [0, 1, 1, 1, 0], [1, 0, 1, 0, 1]]\n"
     ]
    }
   ],
   "source": [
    "def croosover(individual1, individual2, crossover_rate=0.7):\n",
    "    if random.random() > crossover_rate:\n",
    "        point = random.randint(0, len(individual1)-1)\n",
    "        return individual1[:point] + individual2[point:], individual2[:point] + individual1[point:]\n",
    "    else:\n",
    "        return individual1, individual2\n",
    "    \n",
    "offspring = []\n",
    "\n",
    "for i in range(0, len(selected_population), 2):\n",
    "    parent1 = selected_population[i]\n",
    "    parent2 = selected_population[i+1]\n",
    "    offspring1, offspring2 = croosover(parent1, parent2)\n",
    "    offspring.extend([offspring1, offspring2])\n",
    "\n",
    "print(offspring)"
   ]
  },
  {
   "cell_type": "markdown",
   "metadata": {},
   "source": [
    "Paso 5 (Mutacion)\n",
    "Introducimos mutaciones aleatorios para mantener la diversiadad genetica"
   ]
  },
  {
   "cell_type": "code",
   "execution_count": 6,
   "metadata": {},
   "outputs": [
    {
     "name": "stdout",
     "output_type": "stream",
     "text": [
      "[[1, 0, 1, 0, 1], [0, 1, 1, 0, 0], [0, 0, 1, 1, 1], [1, 0, 1, 0, 1], [0, 1, 1, 1, 0], [1, 1, 0, 0, 0], [0, 1, 1, 1, 0], [0, 0, 1, 1, 1], [0, 1, 1, 1, 0], [1, 0, 1, 0, 1]]\n"
     ]
    }
   ],
   "source": [
    "def mutate(individual, mutation_rate=0.001):\n",
    "    for i in range(len(individual)):\n",
    "        if random.random() < mutation_rate:\n",
    "            individual[i] = 1 - individual[i]\n",
    "    return individual\n",
    "\n",
    "mutated_offspring = [mutate(individual) for individual in offspring]\n",
    "\n",
    "print(mutated_offspring)"
   ]
  },
  {
   "cell_type": "markdown",
   "metadata": {},
   "source": [
    "Paseo 6 (Reemplazo)\n",
    "Reemplazamos la poblacion antiguo con la nueva generacion"
   ]
  },
  {
   "cell_type": "code",
   "execution_count": 7,
   "metadata": {},
   "outputs": [
    {
     "name": "stdout",
     "output_type": "stream",
     "text": [
      "[[0, 1, 1, 1, 0], [1, 0, 1, 0, 1], [0, 0, 1, 1, 1], [0, 1, 1, 0, 0], [1, 0, 0, 1, 1], [0, 0, 1, 0, 0], [0, 1, 1, 1, 0], [1, 1, 0, 0, 0], [0, 1, 1, 1, 0], [0, 0, 1, 1, 1]]\n",
      "[[1, 0, 1, 0, 1], [0, 1, 1, 0, 0], [0, 0, 1, 1, 1], [1, 0, 1, 0, 1], [0, 1, 1, 1, 0], [1, 1, 0, 0, 0], [0, 1, 1, 1, 0], [0, 0, 1, 1, 1], [0, 1, 1, 1, 0], [1, 0, 1, 0, 1]]\n"
     ]
    }
   ],
   "source": [
    "population1 = population\n",
    "\n",
    "population = mutated_offspring\n",
    "\n",
    "print(population1)\n",
    "\n",
    "print(population)"
   ]
  }
 ],
 "metadata": {
  "kernelspec": {
   "display_name": "Python 3",
   "language": "python",
   "name": "python3"
  },
  "language_info": {
   "codemirror_mode": {
    "name": "ipython",
    "version": 3
   },
   "file_extension": ".py",
   "mimetype": "text/x-python",
   "name": "python",
   "nbconvert_exporter": "python",
   "pygments_lexer": "ipython3",
   "version": "3.10.8"
  }
 },
 "nbformat": 4,
 "nbformat_minor": 2
}
